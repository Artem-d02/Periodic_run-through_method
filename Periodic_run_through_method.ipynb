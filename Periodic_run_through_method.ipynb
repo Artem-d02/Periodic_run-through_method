{
  "cells": [
    {
      "cell_type": "markdown",
      "id": "98af24ac",
      "metadata": {
        "id": "98af24ac"
      },
      "source": [
        "# Лабораторная работа №3 «Метод прогонки для линейных дифференциальных уравнений второго порядка с периодическим решением»"
      ]
    },
    {
      "cell_type": "markdown",
      "id": "48799857",
      "metadata": {
        "id": "48799857"
      },
      "source": [
        "## Дашкевич Артём Владимирович"
      ]
    },
    {
      "cell_type": "markdown",
      "id": "8707e487",
      "metadata": {
        "id": "8707e487"
      },
      "source": [
        "### Скрин постановки задачи:\n",
        "![image.png](attachment:image.png)"
      ]
    },
    {
      "cell_type": "markdown",
      "id": "5ee27bc2",
      "metadata": {
        "id": "5ee27bc2"
      },
      "source": [
        "### Описание метода:   \n",
        "Запишем дискретный аналог уравнения:   \n",
        "![image.png](attachment:image.png)   \n",
        "В таком случае система сеточных соотношений принимает вид:   \n",
        "![image-2.png](attachment:image-2.png)   \n",
        "Для нашего уравнения p_n = 0"
      ]
    },
    {
      "cell_type": "markdown",
      "id": "e516c1d3",
      "metadata": {
        "id": "e516c1d3"
      },
      "source": [
        "Заполним массивы коэффициентов a, b и c:"
      ]
    },
    {
      "cell_type": "code",
      "execution_count": null,
      "id": "10d91973",
      "metadata": {
        "id": "10d91973"
      },
      "outputs": [],
      "source": [
        "import numpy as np\n",
        "import matplotlib.pyplot as plt\n",
        "import math"
      ]
    },
    {
      "cell_type": "code",
      "execution_count": null,
      "id": "7ca8ae0b",
      "metadata": {
        "id": "7ca8ae0b"
      },
      "outputs": [],
      "source": [
        "h = 0.005\n",
        "\n",
        "def q_n(n, h):\n",
        "    return -10 - np.sin(2 * np.pi * n * h)\n",
        "\n",
        "def f_n(n, h):\n",
        "    return np.cos(2 * np.pi * n * h)\n",
        "\n",
        "def fi_n(n, h):\n",
        "    return f_n(n, h) * h ** 2\n",
        "\n",
        "size = int(1 / h) + 1\n",
        "a = [0] * size\n",
        "b = [0] * size\n",
        "c = [0] * size"
      ]
    },
    {
      "cell_type": "code",
      "execution_count": null,
      "id": "31f127ec",
      "metadata": {
        "id": "31f127ec"
      },
      "outputs": [],
      "source": [
        "def fill_a(a):\n",
        "    for i in range(len(a)):\n",
        "        a[i] = 1\n",
        "\n",
        "def fill_b(b, q_n, h):\n",
        "    for i in range(len(b)):\n",
        "        b[i] = 2 - q_n(i, h) * (h ** 2)\n",
        "\n",
        "def fill_c(c):\n",
        "    for i in range(len(c)):\n",
        "        c[i] = 1"
      ]
    },
    {
      "cell_type": "code",
      "execution_count": null,
      "id": "d5db4053",
      "metadata": {
        "id": "d5db4053"
      },
      "outputs": [],
      "source": [
        "fill_a(a)\n",
        "fill_b(b, q_n, h)\n",
        "fill_c(c)"
      ]
    },
    {
      "cell_type": "markdown",
      "id": "6d59b90a",
      "metadata": {
        "id": "6d59b90a"
      },
      "source": [
        "![image.png](attachment:image.png)"
      ]
    },
    {
      "cell_type": "markdown",
      "id": "b139422a",
      "metadata": {
        "id": "b139422a"
      },
      "source": [
        "Заполним массивы коэффициентов alpha, beta и gamma:"
      ]
    },
    {
      "cell_type": "code",
      "execution_count": null,
      "id": "1c448fef",
      "metadata": {
        "id": "1c448fef"
      },
      "outputs": [],
      "source": [
        "alpha = [0] * size    # use range [1 - N], 0-index not use\n",
        "beta = [0] * size    # use range [1 - N], 0-index not use\n",
        "gamma = [0] * size    # use range [1 - N], 0-index not use\n",
        "\n",
        "def fill_alpha(alpha, a, b, c):\n",
        "    alpha[1] = c[0] / b[0]\n",
        "    for i in range(1, len(alpha) - 1):\n",
        "        alpha[i + 1] = c[i] / (b[i] - alpha[i] * a[i])\n",
        "\n",
        "def fill_beta(beta, alpha, a, b, c, fi_n, h):\n",
        "    beta[1] = -fi_n(0, h) / b[0]\n",
        "    for i in range(1, len(beta) - 1):\n",
        "        beta[i + 1] = (a[i] * beta[i] - fi_n(i, h)) / (b[i] - alpha[i] * a[i])\n",
        "\n",
        "def fill_gamma(gamma, alpha, a, b):\n",
        "    gamma[1] = a[0] / b[0]\n",
        "    for i in range(1, len(gamma) - 1):\n",
        "        gamma[i + 1] = (a[i] * gamma[i]) / (b[i] - alpha[i] * a[i])"
      ]
    },
    {
      "cell_type": "code",
      "execution_count": null,
      "id": "7c39eebc",
      "metadata": {
        "id": "7c39eebc"
      },
      "outputs": [],
      "source": [
        "fill_alpha(alpha, a, b, c)\n",
        "fill_beta(beta, alpha, a, b, c, fi_n, h)\n",
        "fill_gamma(gamma, alpha, a, b)"
      ]
    },
    {
      "cell_type": "markdown",
      "id": "f9b85f16",
      "metadata": {
        "id": "f9b85f16"
      },
      "source": [
        "![image.png](attachment:image.png)"
      ]
    },
    {
      "cell_type": "markdown",
      "id": "c018456b",
      "metadata": {
        "id": "c018456b"
      },
      "source": [
        "![image.png](attachment:image.png)"
      ]
    },
    {
      "cell_type": "markdown",
      "id": "615c681c",
      "metadata": {
        "id": "615c681c"
      },
      "source": [
        "Далее вычислим значения коэффициентов mu_N и eta_N, пройдём в цикле от N до 1 и заполним массивы значений коэффициентов mu и eta на сетке:"
      ]
    },
    {
      "cell_type": "code",
      "execution_count": null,
      "id": "57e64e0f",
      "metadata": {
        "id": "57e64e0f"
      },
      "outputs": [],
      "source": [
        "mu = [0] * size\n",
        "eta = [0] * size\n",
        "\n",
        "def fill_mu(mu, a, b, c, alpha, gamma):\n",
        "    mu[-1] = - c[-1] / (a[-1] * (alpha[-1] + gamma[-1]) - b[-1])\n",
        "    for i in range(len(mu) - 1, 0, -1):\n",
        "        mu[i - 1] = alpha[i] * mu[i] + gamma[i] * mu[-1]\n",
        "\n",
        "def fill_eta(eta, a, b, alpha, beta, gamma, f_n, h):\n",
        "    eta[-1] = (fi_n(size - 1, h) - a[-1] * beta[-1]) / (a[-1] * (alpha[-1] + gamma[-1]) - b[-1])\n",
        "    for i in range(len(eta) - 1, 0, -1):\n",
        "        eta[i - 1] = beta[i] + alpha[i] * eta[i] + gamma[i] * eta[-1]"
      ]
    },
    {
      "cell_type": "code",
      "execution_count": null,
      "id": "2eb29274",
      "metadata": {
        "id": "2eb29274"
      },
      "outputs": [],
      "source": [
        "fill_mu(mu, a, b, c, alpha, gamma)\n",
        "fill_eta(eta, a, b, alpha, beta, gamma, f_n, h)"
      ]
    },
    {
      "cell_type": "markdown",
      "id": "7e3788a5",
      "metadata": {
        "id": "7e3788a5"
      },
      "source": [
        "После нахождения значений mu_0 и eta_0 найдём начальную точку решения y_0:   \n",
        "![image.png](attachment:image.png)"
      ]
    },
    {
      "cell_type": "markdown",
      "id": "d9aad88b",
      "metadata": {
        "id": "d9aad88b"
      },
      "source": [
        "И с помощью неё рассчитаем значения y во всех точках сетки:   \n",
        "y_n = mu_n * y_0 + eta_n"
      ]
    },
    {
      "cell_type": "code",
      "execution_count": null,
      "id": "d0c71a29",
      "metadata": {
        "id": "d0c71a29"
      },
      "outputs": [],
      "source": [
        "y = [0] * size\n",
        "x = [0] * size\n",
        "\n",
        "def fill_x(x, h):\n",
        "    for i in range(len(x)):\n",
        "        x[i] = i * h\n",
        "\n",
        "def fill_y(y, mu, eta):\n",
        "    y[0] = eta[0] / (1 - mu[0])\n",
        "    for i in range(1, len(y)):\n",
        "        y[i] = mu[i] * y[0] + eta[i]"
      ]
    },
    {
      "cell_type": "code",
      "execution_count": null,
      "id": "094b8cc9",
      "metadata": {
        "id": "094b8cc9"
      },
      "outputs": [],
      "source": [
        "fill_y(y, mu, eta)\n",
        "fill_x(x, h)"
      ]
    },
    {
      "cell_type": "markdown",
      "id": "d5c5ac8b",
      "metadata": {
        "id": "d5c5ac8b"
      },
      "source": [
        "Построим график для 3 периодов решения:"
      ]
    },
    {
      "cell_type": "code",
      "execution_count": null,
      "id": "06673552",
      "metadata": {
        "scrolled": false,
        "colab": {
          "base_uri": "https://localhost:8080/",
          "height": 297
        },
        "id": "06673552",
        "outputId": "129278d3-e499-4ebf-9686-6017da5344d9"
      },
      "outputs": [
        {
          "output_type": "display_data",
          "data": {
            "text/plain": [
              "<Figure size 864x288 with 1 Axes>"
            ],
            "image/png": "[encoded data removed]"
          },
          "metadata": {
            "needs_background": "light"
          }
        }
      ],
      "source": [
        "x_plot = [0] * size * 3\n",
        "fill_x(x_plot, h)\n",
        "\n",
        "y_plot = y + y + y\n",
        "\n",
        "# y = f(x)\n",
        "plt.figure(figsize=[12, 4])\n",
        "plt.plot(x_plot, y_plot, label='y = f(x)')\n",
        "\n",
        "plt.title(\"y = f(x)\")\n",
        "plt.xlabel(\"$x$\")\n",
        "plt.ylabel(\"$y$\")\n",
        "plt.grid()\n",
        "plt.legend(loc='best', bbox_to_anchor=(1, 1))\n",
        "plt.tight_layout() \n",
        "plt.show()"
      ]
    },
    {
      "cell_type": "markdown",
      "id": "50302ced",
      "metadata": {
        "id": "50302ced"
      },
      "source": [
        "Заметим, что для для полученного решения выполнены условия периодичности:"
      ]
    },
    {
      "cell_type": "code",
      "execution_count": null,
      "id": "9401c0c8",
      "metadata": {
        "colab": {
          "base_uri": "https://localhost:8080/"
        },
        "id": "9401c0c8",
        "outputId": "dd181e98-c583-4c10-957c-278e8f7f0c6e"
      },
      "outputs": [
        {
          "output_type": "stream",
          "name": "stdout",
          "text": [
            "y(0) =  -0.020891744564019567\n",
            "y(1) =  -0.020895759459365816\n"
          ]
        }
      ],
      "source": [
        "print(\"y(0) = \", y[0])\n",
        "print(\"y(1) = \", y[-1])"
      ]
    },
    {
      "cell_type": "code",
      "execution_count": null,
      "id": "90f94242",
      "metadata": {
        "colab": {
          "base_uri": "https://localhost:8080/"
        },
        "id": "90f94242",
        "outputId": "1578458b-ef42-4d92-8685-a37822c10d13"
      },
      "outputs": [
        {
          "output_type": "stream",
          "name": "stdout",
          "text": [
            "y'(0) =  0.004758391841049037\n",
            "y'(1) =  0.0008029790692497263\n"
          ]
        }
      ],
      "source": [
        "print(\"y'(0) = \", (y_plot[1] - y_plot[0]) / h)\n",
        "print(\"y'(1) = \", (y_plot[0] - y_plot[-1]) / h)"
      ]
    },
    {
      "cell_type": "markdown",
      "id": "b4d853eb",
      "metadata": {
        "id": "b4d853eb"
      },
      "source": [
        "Решим также систему уравнений алгебраически:"
      ]
    },
    {
      "cell_type": "code",
      "execution_count": null,
      "id": "c267a06b",
      "metadata": {
        "id": "c267a06b"
      },
      "outputs": [],
      "source": [
        "A = np.array([np.zeros(size) for i in range(size)])\n",
        "f = np.zeros(size)\n",
        "\n",
        "A[0][0] = -b[0]\n",
        "A[0][1] = c[0]\n",
        "A[0][-1] = a[0]\n",
        "f[0] = fi_n(0, h)\n",
        "\n",
        "for i in range(1, size - 1):\n",
        "    A[i][i - 1] = a[i]\n",
        "    A[i][i] = -b[i]\n",
        "    A[i][i + 1] = c[i]\n",
        "    f[i] = fi_n(i, h)\n",
        "\n",
        "A[-1][0] = c[-1]\n",
        "A[-1][-2] = a[-1]\n",
        "A[-1][-1] = -b[-1]\n",
        "f[-1] = fi_n(size - 1, h)\n",
        "\n",
        "y_theory = np.linalg.solve(A, f)"
      ]
    },
    {
      "cell_type": "code",
      "execution_count": null,
      "id": "d564e992",
      "metadata": {
        "colab": {
          "base_uri": "https://localhost:8080/",
          "height": 297
        },
        "id": "d564e992",
        "outputId": "92a6b0e0-1b82-4aa3-d235-4646766d6f2f"
      },
      "outputs": [
        {
          "output_type": "display_data",
          "data": {
            "text/plain": [
              "<Figure size 864x288 with 1 Axes>"
            ],
            "image/png": "[encoded data removed]"
          },
          "metadata": {
            "needs_background": "light"
          }
        }
      ],
      "source": [
        "x_plot = [0] * size * 3\n",
        "fill_x(x_plot, h)\n",
        "\n",
        "y_plot = np.concatenate((y_theory, y_theory, y_theory))\n",
        "\n",
        "# y = f(x)\n",
        "plt.figure(figsize=[12, 4])\n",
        "plt.plot(x_plot, y_plot, label='y_theory = f(x)')\n",
        "\n",
        "plt.title(\"y_theory = f(x)\")\n",
        "plt.xlabel(\"$x$\")\n",
        "plt.ylabel(\"$y_theory$\")\n",
        "plt.grid()\n",
        "plt.legend(loc='best', bbox_to_anchor=(1, 1))\n",
        "plt.tight_layout() \n",
        "plt.show()"
      ]
    },
    {
      "cell_type": "code",
      "execution_count": null,
      "id": "de595307",
      "metadata": {
        "colab": {
          "base_uri": "https://localhost:8080/"
        },
        "id": "de595307",
        "outputId": "31e6371a-fdb4-4fa2-d289-09b0bca4a412"
      },
      "outputs": [
        {
          "output_type": "stream",
          "name": "stdout",
          "text": [
            "y_theory(0) =  -0.02089174456401997\n",
            "y_theory(1) =  -0.020895759459366225\n"
          ]
        }
      ],
      "source": [
        "print(\"y_theory(0) = \", y_theory[0])\n",
        "print(\"y_theory(1) = \", y_theory[-1])"
      ]
    },
    {
      "cell_type": "code",
      "execution_count": null,
      "id": "8e7fddfc",
      "metadata": {
        "colab": {
          "base_uri": "https://localhost:8080/"
        },
        "id": "8e7fddfc",
        "outputId": "25778cac-6a61-49c2-d7a6-a7c3f8fd9c9a"
      },
      "outputs": [
        {
          "output_type": "stream",
          "name": "stdout",
          "text": [
            "y_theory'(0) =  0.0047583918410504245\n",
            "y_theory'(1) =  0.0008029790692511141\n"
          ]
        }
      ],
      "source": [
        "print(\"y_theory'(0) = \", (y_plot[1] - y_plot[0]) / h)\n",
        "print(\"y_theory'(1) = \", (y_plot[0] - y_plot[-1]) / h)"
      ]
    }
  ],
  "metadata": {
    "kernelspec": {
      "display_name": "Python 3",
      "language": "python",
      "name": "python3"
    },
    "language_info": {
      "codemirror_mode": {
        "name": "ipython",
        "version": 3
      },
      "file_extension": ".py",
      "mimetype": "text/x-python",
      "name": "python",
      "nbconvert_exporter": "python",
      "pygments_lexer": "ipython3",
      "version": "3.8.8"
    },
    "colab": {
      "name": "Periodic_run-through_method.ipynb",
      "provenance": [],
      "collapsed_sections": []
    }
  },
  "nbformat": 4,
  "nbformat_minor": 5
}